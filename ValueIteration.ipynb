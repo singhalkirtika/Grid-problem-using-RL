{
 "cells": [
  {
   "cell_type": "code",
   "execution_count": 1,
   "metadata": {},
   "outputs": [],
   "source": [
    "import numpy as np"
   ]
  },
  {
   "cell_type": "code",
   "execution_count": 57,
   "metadata": {},
   "outputs": [],
   "source": [
    "# 0-Down, 1-Up, 2-Right, 3-Left\n",
    "\n",
    "A = [0, 1, 2, 3]\n",
    "\n",
    "T = [ [0, 4, 1, 0], [1, 1, 2, 0 ], [2, 6, 3, 1], [3, 7, 3, 2], \n",
    "      [0, 8, 4, 4], [-1, -1, -1, -1], [2, 10, 7, 6], [3, 11, 7, 6],\n",
    "      [4, 8, 9, 8], [9, 9, 10, 8], [6, 10, 11, 9], [7, 11, 11, 10]]\n",
    "\n",
    "R = [-0.04, -0.04, -0.04, -0.04, -0.04, -100, -0.04, -1, -0.04, -0.04, -0.04, 1]\n",
    "\n",
    "# directions = [ [[0, 1], [0, 1], [0, 4], [0, 4]],\n",
    "#                [[0, 2], [0, 2], [1, 1], [1, 1]],\n",
    "#                [[1, 3], [1, 3], [2, 6], [2, 6]],\n",
    "#                [[2, 3], [2, 3], [3, 7], [3, 7]],\n",
    "#                [[4, 4], [4, 4], [0, 8], [0, 8]],\n",
    "#                [[4, 6], [4, 6], [1, 9], [1, 9]],\n",
    "#                [[6, 7], [6, 7], [2, 10], [2, 10]],\n",
    "#                [[6, 7], [6, 7], [3, 11], [3, 11]],\n",
    "#                [[8, 9], [8, 9], [4, 8], [4, 8]],\n",
    "#                [[8, 10], [8, 10], [9, 9], [9, 9]],\n",
    "#                [[9, 11], [9, 11], [6, 10], [6, 10]],\n",
    "#                [[10, 11], [10, 11], [7, 11], [7, 11]] \n",
    "\n",
    "directions = [ [[0, 0], [0, 1], [0, 4], [0, 0]],\n",
    "               [[1, 1], [1, 1], [1, 1], [1, 1]],\n",
    "               [[2, 2], [1, 3], [2, 6], [2, 6]],\n",
    "               [[3, 3], [2, 3], [3, 3], [3, 7]],\n",
    "               [[4, 4], [4, 4], [0, 8], [4, 4]],\n",
    "               [[4, 6], [4, 6], [1, 9], [1, 9]],\n",
    "               [[6, 7], [6, 7], [2, 10], [2, 10]],\n",
    "               [[6, 7], [6, 7], [7, 7], [3, 11]],\n",
    "               [[8, 9], [8, 8], [4, 8], [8, 8]],\n",
    "               [[9, 9], [9, 9], [9, 9], [9, 9]],\n",
    "               [[9, 11], [10, 10], [6, 10], [6, 10]],\n",
    "               [[10, 11], [11, 11], [11, 11], [7, 11]] ]\n",
    "\n",
    "gamma = 0.9"
   ]
  },
  {
   "cell_type": "code",
   "execution_count": 58,
   "metadata": {},
   "outputs": [
    {
     "name": "stdout",
     "output_type": "stream",
     "text": [
      "[0, 0, 0, 0, 0, 0, 0, 0, 0, 0, 0, 0]\n",
      "[0, 0, 0, 0, 0, 0, 3, 1, 0, 0, 2, 1]\n",
      "[0, 0, 0, 0, 0, 0, 1, 1, 0, 2, 2, 1]\n",
      "[0, 0, 1, 1, 0, 2, 1, 1, 2, 2, 2, 1]\n",
      "[0, 2, 1, 1, 1, 2, 1, 1, 2, 2, 2, 1]\n",
      "[1, 2, 1, 1, 1, 0, 1, 1, 2, 2, 2, 1]\n",
      "[1, 2, 1, 1, 1, 0, 1, 1, 2, 2, 2, 1]\n",
      "[1, 2, 1, 1, 1, 0, 1, 1, 2, 2, 2, 1]\n",
      "[1, 2, 1, 1, 1, 0, 1, 1, 2, 2, 2, 1]\n",
      "[1, 2, 1, 1, 1, 2, 1, 1, 2, 2, 2, 1]\n",
      "[1, 2, 1, 1, 1, 2, 1, 1, 2, 2, 2, 1]\n",
      "[2, 2, 1, 1, 1, 2, 1, 1, 2, 2, 2, 1]\n",
      "[2, 2, 1, 1, 1, 2, 1, 1, 2, 2, 2, 1]\n",
      "[2, 2, 1, 1, 1, 2, 1, 1, 2, 2, 2, 1]\n",
      "[2, 2, 1, 1, 1, 2, 1, 1, 2, 2, 2, 1]\n",
      "[2, 2, 1, 1, 1, 2, 1, 1, 2, 2, 2, 1]\n",
      "[2, 2, 1, 1, 1, 2, 1, 1, 2, 2, 2, 1]\n",
      "[2, 2, 1, 1, 1, 2, 1, 1, 2, 2, 2, 1]\n",
      "[2, 2, 1, 1, 1, 2, 1, 1, 2, 2, 2, 1]\n",
      "[2, 2, 1, 1, 1, 2, 1, 1, 2, 2, 2, 1]\n",
      "[2, 2, 1, 1, 1, 2, 1, 1, 2, 2, 2, 1]\n",
      "[2, 2, 1, 1, 1, 2, 1, 1, 2, 2, 2, 1]\n",
      "[2, 2, 1, 1, 1, 2, 1, 1, 2, 2, 2, 1]\n"
     ]
    }
   ],
   "source": [
    "delta = 10\n",
    "theta = 0.1\n",
    "actions = np.zeros(12)\n",
    "V = np.zeros(12)\n",
    "j = 0\n",
    "\n",
    "while delta>theta:\n",
    "    VV = np.zeros(12)\n",
    "    action = []\n",
    "    for i in range(len(V)):\n",
    "        values = []\n",
    "        for a in range(len(A)):\n",
    "            value = 0.8*(R[i] + gamma*V[T[i][a]]) + 0.1*(R[i] + gamma*V[directions[i][a][0]]) + 0.1*(R[i] + gamma*V[directions[i][a][1]])\n",
    "            values.append(value)\n",
    "        VV[i] = max(values)\n",
    "        action.append(values.index(VV[i]))\n",
    "    delta = max(abs(V-VV))\n",
    "    V = VV\n",
    "    actions = action\n",
    "    print(actions)\n",
    "    j += 1"
   ]
  },
  {
   "cell_type": "code",
   "execution_count": 3,
   "metadata": {},
   "outputs": [
    {
     "name": "stdout",
     "output_type": "stream",
     "text": [
      "(array([0, 1, 2, 4], dtype=int64),)\n"
     ]
    }
   ],
   "source": [
    "a = [1, 2, 3, 0, 8, 0]\n",
    "print(np.nonzero(a))"
   ]
  },
  {
   "cell_type": "code",
   "execution_count": 10,
   "metadata": {},
   "outputs": [
    {
     "data": {
      "text/plain": [
       "True"
      ]
     },
     "execution_count": 10,
     "metadata": {},
     "output_type": "execute_result"
    }
   ],
   "source": [
    "import symtable\n",
    "table = symtable.symtable(\"def some_func(): pass\", \"int\", \"exec\")\n",
    "table.lookup(\"some_func\").is_local()"
   ]
  },
  {
   "cell_type": "code",
   "execution_count": null,
   "metadata": {},
   "outputs": [],
   "source": []
  }
 ],
 "metadata": {
  "kernelspec": {
   "display_name": "Python 3",
   "language": "python",
   "name": "python3"
  },
  "language_info": {
   "codemirror_mode": {
    "name": "ipython",
    "version": 3
   },
   "file_extension": ".py",
   "mimetype": "text/x-python",
   "name": "python",
   "nbconvert_exporter": "python",
   "pygments_lexer": "ipython3",
   "version": "3.6.6"
  }
 },
 "nbformat": 4,
 "nbformat_minor": 2
}
