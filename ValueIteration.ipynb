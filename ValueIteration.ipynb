{
 "cells": [
  {
   "cell_type": "code",
   "execution_count": 1,
   "metadata": {},
   "outputs": [],
   "source": [
    "# 1 DOWN\n",
    "# 2 UP\n",
    "# 3 Right\n",
    "# 4 Left\n",
    "import numpy as np\n",
    "import sys\n",
    "from operator import add"
   ]
  },
  {
   "cell_type": "code",
   "execution_count": 2,
   "metadata": {},
   "outputs": [],
   "source": [
    "stateTransition = [[-1,3,1,-1],\n",
    "                 [-1,-1,2,0],\n",
    "                 [-1,5,-1,1],\n",
    "                 [0,6,-1,-1],\n",
    "                 [1,7,5,3],\n",
    "                 [2,8,-1,-1],\n",
    "                 [3,9,7,-1],\n",
    "                 [-1,10,8,6],\n",
    "                 [5,11,-1,7],\n",
    "                 [6,-1,10,-1],\n",
    "                 [7,-1,11,9],\n",
    "                 [8,-1,-1,10]]\n",
    "r = 1\n",
    "R = [[-sys.maxsize,r,r,-sys.maxsize],\n",
    "    [-sys.maxsize,-sys.maxsize,r,r],\n",
    "    [-sys.maxsize,r,-sys.maxsize,r],\n",
    "    [r,r,-sys.maxsize,-sys.maxsize],\n",
    "    [r,r,r,r],\n",
    "    [r,r,-sys.maxsize,-sys.maxsize],\n",
    "    [r,r,r,-sys.maxsize],\n",
    "    [-sys.maxsize,-1,r,r],\n",
    "    [r,1,-sys.maxsize,r],\n",
    "    [r,-sys.maxsize,-1,-sys.maxsize],\n",
    "    [r,-sys.maxsize,1,-sys.maxsize],\n",
    "    [r,-sys.maxsize,-sys.maxsize,-1]] \n",
    "\n",
    "action = [[0,1,1,0],[0,0,1,1],[0,1,0,1],[1,1,0,0],\n",
    "         [0,0,0,0],[1,1,0,0],[1,1,1,0],[0,1,1,1],\n",
    "          [1,1,0,1], [1,0,1,0],[1,0,1,1],[1,0,0,1]]\n",
    "\n",
    "discountFactor = 0.8\n",
    "\n",
    "policy = [0 for i in range(12)]"
   ]
  },
  {
   "cell_type": "code",
   "execution_count": 3,
   "metadata": {},
   "outputs": [],
   "source": [
    "def transition(T, s, a):\n",
    "    p_move = 0.8\n",
    "    sExpected = []\n",
    "    prob = []\n",
    "    actions = []\n",
    "\n",
    "    if T[s][a] != -1:\n",
    "        sExpected.append(T[s][a])\n",
    "        prob.append(p_move)\n",
    "        actions.append(a)\n",
    "        \n",
    "    if a < 2:\n",
    "        if T[s][2] != -1:\n",
    "            sExpected.append(T[s][2])\n",
    "            prob.append((1 - p_move) / 2)\n",
    "            actions.append(2) \n",
    "            \n",
    "        if T[s][3] != -1:\n",
    "            sExpected.append(T[s][3])\n",
    "            prob.append((1 - p_move) / 2)\n",
    "            actions.append(3)\n",
    "        \n",
    "    else:\n",
    "        if T[s][0] != -1:\n",
    "            sExpected.append(T[s][0])\n",
    "            prob.append((1 - p_move) / 2)\n",
    "            actions.append(0)\n",
    "            \n",
    "        if T[s][1] != -1:\n",
    "            sExpected.append(T[s][1])\n",
    "            prob.append((1 - p_move) / 2)\n",
    "            actions.append(1)\n",
    "            \n",
    "    return sExpected, actions, prob"
   ]
  },
  {
   "cell_type": "code",
   "execution_count": 4,
   "metadata": {},
   "outputs": [],
   "source": [
    "VS = [0 for i in range(12)]\n",
    "prevVS = [1 for i in range(12)]\n",
    "\n",
    "while VS != prevVS:\n",
    "    VS = prevVS\n",
    "    actionsTaken = []\n",
    "    for i in range(12):\n",
    "        possibleActions = [k for k in range(4) if action[i][k]!=0 ]\n",
    "        values = []\n",
    "        for j in range(len(possibleActions)):\n",
    "            sExpected, actions, prob = transition(stateTransition, i, possibleActions[j])\n",
    "            reward = [R[i][a] for a in actions]\n",
    "            expected = [discountFactor*VS[k] for k in sExpected]\n",
    "            innerValue = [a+b for a,b in zip(expected, reward)]\n",
    "            action_value = sum([a*b for a, b in zip(innerValue, prob)])\n",
    "            values.append(action_value)\n",
    "\n",
    "        if len(values)>0:\n",
    "            prevVS[i] = max(values)\n",
    "            actionsTaken.append(possibleActions[values.index(max(values))])\n",
    "        else:\n",
    "            actionsTaken.append(-1)\n"
   ]
  },
  {
   "cell_type": "code",
   "execution_count": 5,
   "metadata": {},
   "outputs": [
    {
     "name": "stdout",
     "output_type": "stream",
     "text": [
      "[1.62, 1.8368000000000002, 2.1555520000000006, 1.8368000000000002, 1, 2.1795532800000004, 2.1555520000000006, 2.1595532800000004, 2.6364783616000005, 2.1595532800000004, 1.7127642624000001, 2.5243672924160006]\n"
     ]
    }
   ],
   "source": [
    "print(VS)"
   ]
  },
  {
   "cell_type": "code",
   "execution_count": null,
   "metadata": {},
   "outputs": [],
   "source": []
  }
 ],
 "metadata": {
  "kernelspec": {
   "display_name": "Python 3",
   "language": "python",
   "name": "python3"
  },
  "language_info": {
   "codemirror_mode": {
    "name": "ipython",
    "version": 3
   },
   "file_extension": ".py",
   "mimetype": "text/x-python",
   "name": "python",
   "nbconvert_exporter": "python",
   "pygments_lexer": "ipython3",
   "version": "3.6.6"
  }
 },
 "nbformat": 4,
 "nbformat_minor": 2
}
